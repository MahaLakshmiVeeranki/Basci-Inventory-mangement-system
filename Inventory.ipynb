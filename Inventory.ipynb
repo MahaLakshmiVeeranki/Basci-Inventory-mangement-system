{
  "nbformat": 4,
  "nbformat_minor": 0,
  "metadata": {
    "colab": {
      "name": "ADD_Inventaory.ipynb",
      "provenance": [],
      "collapsed_sections": [],
      "toc_visible": true
    },
    "kernelspec": {
      "name": "python3",
      "display_name": "Python 3"
    },
    "language_info": {
      "name": "python"
    }
  },
  "cells": [
    {
      "cell_type": "markdown",
      "metadata": {
        "id": "olRvYGwhOfVK"
      },
      "source": [
        "# **read json file data**"
      ]
    },
    {
      "cell_type": "code",
      "metadata": {
        "id": "vVSJ6cECOmPh"
      },
      "source": [
        "import json\n",
        "fd = open(\"record.json\",'r')\n",
        "r = fd.read()\n",
        "fd.close()\n",
        "record = json.loads(r)"
      ],
      "execution_count": 1,
      "outputs": []
    },
    {
      "cell_type": "code",
      "metadata": {
        "colab": {
          "base_uri": "https://localhost:8080/",
          "height": 52
        },
        "id": "g9Ay88FWOyVo",
        "outputId": "01fe60d2-9e5b-4e3f-95d8-3322ed4159e1"
      },
      "source": [
        "r"
      ],
      "execution_count": 2,
      "outputs": [
        {
          "output_type": "execute_result",
          "data": {
            "application/vnd.google.colaboratory.intrinsic+json": {
              "type": "string"
            },
            "text/plain": [
              "'{\"1\": {\"name\": \"chocolates\", \"Price\": 10, \"quantity\": 20}, \"2\": {\"name\": \"biscuits\", \"Price\": 10, \"quantity\": 20}, \"3\": {\"name\": \"chips\", \"Price\": 4, \"quantity\": 10}, \"4\": {\"name\": \"icecream\", \"Price\": 15, \"quantity\": 20}, \"5\": {\"name\": \"cake\", \"Price\": 20, \"quantity\": 30}}'"
            ]
          },
          "metadata": {},
          "execution_count": 2
        }
      ]
    },
    {
      "cell_type": "markdown",
      "metadata": {
        "id": "qpyETTWIPTbF"
      },
      "source": [
        "**add inventaory to data**"
      ]
    },
    {
      "cell_type": "code",
      "metadata": {
        "colab": {
          "base_uri": "https://localhost:8080/"
        },
        "id": "_TIryxL4PRKU",
        "outputId": "f0941493-ed6c-44ce-83c8-6a92f2584010"
      },
      "source": [
        "#creating  products inventaory\n",
        "number=int(input(\"number of products to be added\"))\n",
        "for i in range(number):\n",
        "  id=input(\"enter the id:\")\n",
        "  name=input(\"enter product name:\")\n",
        "  Price=int(input(\"enter price\"))\n",
        "  quantity=int(input(\"Enter quantity:\"))\n",
        "  values={'name':name,'Price':Price,'quantity':quantity}\n",
        "  record[id]=values\n",
        "  print(record)\n",
        "fg=open(\"add_inventaory.json\",'a')\n",
        "js=json.dumps(record)\n",
        "fg.writelines(js)\n",
        "fg.close()"
      ],
      "execution_count": 3,
      "outputs": [
        {
          "output_type": "stream",
          "name": "stdout",
          "text": [
            "number of products to be added25\n",
            "enter the id:6\n",
            "enter product name:pens\n",
            "enter price5\n",
            "Enter quantity:30\n",
            "{'1': {'name': 'chocolates', 'Price': 10, 'quantity': 20}, '2': {'name': 'biscuits', 'Price': 10, 'quantity': 20}, '3': {'name': 'chips', 'Price': 4, 'quantity': 10}, '4': {'name': 'icecream', 'Price': 15, 'quantity': 20}, '5': {'name': 'cake', 'Price': 20, 'quantity': 30}, '6': {'name': 'pens', 'Price': 5, 'quantity': 30}}\n",
            "enter the id:7\n",
            "enter product name:cookies\n",
            "enter price10\n",
            "Enter quantity:20\n",
            "{'1': {'name': 'chocolates', 'Price': 10, 'quantity': 20}, '2': {'name': 'biscuits', 'Price': 10, 'quantity': 20}, '3': {'name': 'chips', 'Price': 4, 'quantity': 10}, '4': {'name': 'icecream', 'Price': 15, 'quantity': 20}, '5': {'name': 'cake', 'Price': 20, 'quantity': 30}, '6': {'name': 'pens', 'Price': 5, 'quantity': 30}, '7': {'name': 'cookies', 'Price': 10, 'quantity': 20}}\n",
            "enter the id:8\n",
            "enter product name:chococake\n",
            "enter price100\n",
            "Enter quantity:10\n",
            "{'1': {'name': 'chocolates', 'Price': 10, 'quantity': 20}, '2': {'name': 'biscuits', 'Price': 10, 'quantity': 20}, '3': {'name': 'chips', 'Price': 4, 'quantity': 10}, '4': {'name': 'icecream', 'Price': 15, 'quantity': 20}, '5': {'name': 'cake', 'Price': 20, 'quantity': 30}, '6': {'name': 'pens', 'Price': 5, 'quantity': 30}, '7': {'name': 'cookies', 'Price': 10, 'quantity': 20}, '8': {'name': 'chococake', 'Price': 100, 'quantity': 10}}\n",
            "enter the id:9\n",
            "enter product name:Dairymilk\n",
            "enter price40\n",
            "Enter quantity:100\n",
            "{'1': {'name': 'chocolates', 'Price': 10, 'quantity': 20}, '2': {'name': 'biscuits', 'Price': 10, 'quantity': 20}, '3': {'name': 'chips', 'Price': 4, 'quantity': 10}, '4': {'name': 'icecream', 'Price': 15, 'quantity': 20}, '5': {'name': 'cake', 'Price': 20, 'quantity': 30}, '6': {'name': 'pens', 'Price': 5, 'quantity': 30}, '7': {'name': 'cookies', 'Price': 10, 'quantity': 20}, '8': {'name': 'chococake', 'Price': 100, 'quantity': 10}, '9': {'name': 'Dairymilk', 'Price': 40, 'quantity': 100}}\n",
            "enter the id:10\n",
            "enter product name:5Star chocolate\n",
            "enter price10\n",
            "Enter quantity:50\n",
            "{'1': {'name': 'chocolates', 'Price': 10, 'quantity': 20}, '2': {'name': 'biscuits', 'Price': 10, 'quantity': 20}, '3': {'name': 'chips', 'Price': 4, 'quantity': 10}, '4': {'name': 'icecream', 'Price': 15, 'quantity': 20}, '5': {'name': 'cake', 'Price': 20, 'quantity': 30}, '6': {'name': 'pens', 'Price': 5, 'quantity': 30}, '7': {'name': 'cookies', 'Price': 10, 'quantity': 20}, '8': {'name': 'chococake', 'Price': 100, 'quantity': 10}, '9': {'name': 'Dairymilk', 'Price': 40, 'quantity': 100}, '10': {'name': '5Star chocolate', 'Price': 10, 'quantity': 50}}\n",
            "enter the id:11\n",
            "enter product name:olive oil\n",
            "enter price400\n",
            "Enter quantity:5\n",
            "{'1': {'name': 'chocolates', 'Price': 10, 'quantity': 20}, '2': {'name': 'biscuits', 'Price': 10, 'quantity': 20}, '3': {'name': 'chips', 'Price': 4, 'quantity': 10}, '4': {'name': 'icecream', 'Price': 15, 'quantity': 20}, '5': {'name': 'cake', 'Price': 20, 'quantity': 30}, '6': {'name': 'pens', 'Price': 5, 'quantity': 30}, '7': {'name': 'cookies', 'Price': 10, 'quantity': 20}, '8': {'name': 'chococake', 'Price': 100, 'quantity': 10}, '9': {'name': 'Dairymilk', 'Price': 40, 'quantity': 100}, '10': {'name': '5Star chocolate', 'Price': 10, 'quantity': 50}, '11': {'name': 'olive oil', 'Price': 400, 'quantity': 5}}\n",
            "enter the id:12\n",
            "enter product name:almond oil\n",
            "enter price200\n",
            "Enter quantity:20\n",
            "{'1': {'name': 'chocolates', 'Price': 10, 'quantity': 20}, '2': {'name': 'biscuits', 'Price': 10, 'quantity': 20}, '3': {'name': 'chips', 'Price': 4, 'quantity': 10}, '4': {'name': 'icecream', 'Price': 15, 'quantity': 20}, '5': {'name': 'cake', 'Price': 20, 'quantity': 30}, '6': {'name': 'pens', 'Price': 5, 'quantity': 30}, '7': {'name': 'cookies', 'Price': 10, 'quantity': 20}, '8': {'name': 'chococake', 'Price': 100, 'quantity': 10}, '9': {'name': 'Dairymilk', 'Price': 40, 'quantity': 100}, '10': {'name': '5Star chocolate', 'Price': 10, 'quantity': 50}, '11': {'name': 'olive oil', 'Price': 400, 'quantity': 5}, '12': {'name': 'almond oil', 'Price': 200, 'quantity': 20}}\n",
            "enter the id:13\n",
            "enter product name:Sanitizer\n",
            "enter price100\n",
            "Enter quantity:50\n",
            "{'1': {'name': 'chocolates', 'Price': 10, 'quantity': 20}, '2': {'name': 'biscuits', 'Price': 10, 'quantity': 20}, '3': {'name': 'chips', 'Price': 4, 'quantity': 10}, '4': {'name': 'icecream', 'Price': 15, 'quantity': 20}, '5': {'name': 'cake', 'Price': 20, 'quantity': 30}, '6': {'name': 'pens', 'Price': 5, 'quantity': 30}, '7': {'name': 'cookies', 'Price': 10, 'quantity': 20}, '8': {'name': 'chococake', 'Price': 100, 'quantity': 10}, '9': {'name': 'Dairymilk', 'Price': 40, 'quantity': 100}, '10': {'name': '5Star chocolate', 'Price': 10, 'quantity': 50}, '11': {'name': 'olive oil', 'Price': 400, 'quantity': 5}, '12': {'name': 'almond oil', 'Price': 200, 'quantity': 20}, '13': {'name': 'Sanitizer', 'Price': 100, 'quantity': 50}}\n",
            "enter the id:14\n",
            "enter product name:masks\n",
            "enter price50\n",
            "Enter quantity:100\n",
            "{'1': {'name': 'chocolates', 'Price': 10, 'quantity': 20}, '2': {'name': 'biscuits', 'Price': 10, 'quantity': 20}, '3': {'name': 'chips', 'Price': 4, 'quantity': 10}, '4': {'name': 'icecream', 'Price': 15, 'quantity': 20}, '5': {'name': 'cake', 'Price': 20, 'quantity': 30}, '6': {'name': 'pens', 'Price': 5, 'quantity': 30}, '7': {'name': 'cookies', 'Price': 10, 'quantity': 20}, '8': {'name': 'chococake', 'Price': 100, 'quantity': 10}, '9': {'name': 'Dairymilk', 'Price': 40, 'quantity': 100}, '10': {'name': '5Star chocolate', 'Price': 10, 'quantity': 50}, '11': {'name': 'olive oil', 'Price': 400, 'quantity': 5}, '12': {'name': 'almond oil', 'Price': 200, 'quantity': 20}, '13': {'name': 'Sanitizer', 'Price': 100, 'quantity': 50}, '14': {'name': 'masks', 'Price': 50, 'quantity': 100}}\n",
            "enter the id:15\n",
            "enter product name:maggi\n",
            "enter price10\n",
            "Enter quantity:50\n",
            "{'1': {'name': 'chocolates', 'Price': 10, 'quantity': 20}, '2': {'name': 'biscuits', 'Price': 10, 'quantity': 20}, '3': {'name': 'chips', 'Price': 4, 'quantity': 10}, '4': {'name': 'icecream', 'Price': 15, 'quantity': 20}, '5': {'name': 'cake', 'Price': 20, 'quantity': 30}, '6': {'name': 'pens', 'Price': 5, 'quantity': 30}, '7': {'name': 'cookies', 'Price': 10, 'quantity': 20}, '8': {'name': 'chococake', 'Price': 100, 'quantity': 10}, '9': {'name': 'Dairymilk', 'Price': 40, 'quantity': 100}, '10': {'name': '5Star chocolate', 'Price': 10, 'quantity': 50}, '11': {'name': 'olive oil', 'Price': 400, 'quantity': 5}, '12': {'name': 'almond oil', 'Price': 200, 'quantity': 20}, '13': {'name': 'Sanitizer', 'Price': 100, 'quantity': 50}, '14': {'name': 'masks', 'Price': 50, 'quantity': 100}, '15': {'name': 'maggi', 'Price': 10, 'quantity': 50}}\n",
            "enter the id:16\n",
            "enter product name:yipee\n",
            "enter price10\n",
            "Enter quantity:40\n",
            "{'1': {'name': 'chocolates', 'Price': 10, 'quantity': 20}, '2': {'name': 'biscuits', 'Price': 10, 'quantity': 20}, '3': {'name': 'chips', 'Price': 4, 'quantity': 10}, '4': {'name': 'icecream', 'Price': 15, 'quantity': 20}, '5': {'name': 'cake', 'Price': 20, 'quantity': 30}, '6': {'name': 'pens', 'Price': 5, 'quantity': 30}, '7': {'name': 'cookies', 'Price': 10, 'quantity': 20}, '8': {'name': 'chococake', 'Price': 100, 'quantity': 10}, '9': {'name': 'Dairymilk', 'Price': 40, 'quantity': 100}, '10': {'name': '5Star chocolate', 'Price': 10, 'quantity': 50}, '11': {'name': 'olive oil', 'Price': 400, 'quantity': 5}, '12': {'name': 'almond oil', 'Price': 200, 'quantity': 20}, '13': {'name': 'Sanitizer', 'Price': 100, 'quantity': 50}, '14': {'name': 'masks', 'Price': 50, 'quantity': 100}, '15': {'name': 'maggi', 'Price': 10, 'quantity': 50}, '16': {'name': 'yipee', 'Price': 10, 'quantity': 40}}\n",
            "enter the id:17\n",
            "enter product name:water bottle\n",
            "enter price100\n",
            "Enter quantity:20\n",
            "{'1': {'name': 'chocolates', 'Price': 10, 'quantity': 20}, '2': {'name': 'biscuits', 'Price': 10, 'quantity': 20}, '3': {'name': 'chips', 'Price': 4, 'quantity': 10}, '4': {'name': 'icecream', 'Price': 15, 'quantity': 20}, '5': {'name': 'cake', 'Price': 20, 'quantity': 30}, '6': {'name': 'pens', 'Price': 5, 'quantity': 30}, '7': {'name': 'cookies', 'Price': 10, 'quantity': 20}, '8': {'name': 'chococake', 'Price': 100, 'quantity': 10}, '9': {'name': 'Dairymilk', 'Price': 40, 'quantity': 100}, '10': {'name': '5Star chocolate', 'Price': 10, 'quantity': 50}, '11': {'name': 'olive oil', 'Price': 400, 'quantity': 5}, '12': {'name': 'almond oil', 'Price': 200, 'quantity': 20}, '13': {'name': 'Sanitizer', 'Price': 100, 'quantity': 50}, '14': {'name': 'masks', 'Price': 50, 'quantity': 100}, '15': {'name': 'maggi', 'Price': 10, 'quantity': 50}, '16': {'name': 'yipee', 'Price': 10, 'quantity': 40}, '17': {'name': 'water bottle', 'Price': 100, 'quantity': 20}}\n",
            "enter the id:18\n",
            "enter product name:samsung galaxy s52\n",
            "enter price25000\n",
            "Enter quantity:5\n",
            "{'1': {'name': 'chocolates', 'Price': 10, 'quantity': 20}, '2': {'name': 'biscuits', 'Price': 10, 'quantity': 20}, '3': {'name': 'chips', 'Price': 4, 'quantity': 10}, '4': {'name': 'icecream', 'Price': 15, 'quantity': 20}, '5': {'name': 'cake', 'Price': 20, 'quantity': 30}, '6': {'name': 'pens', 'Price': 5, 'quantity': 30}, '7': {'name': 'cookies', 'Price': 10, 'quantity': 20}, '8': {'name': 'chococake', 'Price': 100, 'quantity': 10}, '9': {'name': 'Dairymilk', 'Price': 40, 'quantity': 100}, '10': {'name': '5Star chocolate', 'Price': 10, 'quantity': 50}, '11': {'name': 'olive oil', 'Price': 400, 'quantity': 5}, '12': {'name': 'almond oil', 'Price': 200, 'quantity': 20}, '13': {'name': 'Sanitizer', 'Price': 100, 'quantity': 50}, '14': {'name': 'masks', 'Price': 50, 'quantity': 100}, '15': {'name': 'maggi', 'Price': 10, 'quantity': 50}, '16': {'name': 'yipee', 'Price': 10, 'quantity': 40}, '17': {'name': 'water bottle', 'Price': 100, 'quantity': 20}, '18': {'name': 'samsung galaxy s52', 'Price': 25000, 'quantity': 5}}\n",
            "enter the id:oppo phone\n",
            "enter product name:oppo phone\n",
            "enter price20000\n",
            "Enter quantity:10\n",
            "{'1': {'name': 'chocolates', 'Price': 10, 'quantity': 20}, '2': {'name': 'biscuits', 'Price': 10, 'quantity': 20}, '3': {'name': 'chips', 'Price': 4, 'quantity': 10}, '4': {'name': 'icecream', 'Price': 15, 'quantity': 20}, '5': {'name': 'cake', 'Price': 20, 'quantity': 30}, '6': {'name': 'pens', 'Price': 5, 'quantity': 30}, '7': {'name': 'cookies', 'Price': 10, 'quantity': 20}, '8': {'name': 'chococake', 'Price': 100, 'quantity': 10}, '9': {'name': 'Dairymilk', 'Price': 40, 'quantity': 100}, '10': {'name': '5Star chocolate', 'Price': 10, 'quantity': 50}, '11': {'name': 'olive oil', 'Price': 400, 'quantity': 5}, '12': {'name': 'almond oil', 'Price': 200, 'quantity': 20}, '13': {'name': 'Sanitizer', 'Price': 100, 'quantity': 50}, '14': {'name': 'masks', 'Price': 50, 'quantity': 100}, '15': {'name': 'maggi', 'Price': 10, 'quantity': 50}, '16': {'name': 'yipee', 'Price': 10, 'quantity': 40}, '17': {'name': 'water bottle', 'Price': 100, 'quantity': 20}, '18': {'name': 'samsung galaxy s52', 'Price': 25000, 'quantity': 5}, 'oppo phone': {'name': 'oppo phone', 'Price': 20000, 'quantity': 10}}\n",
            "enter the id:20\n",
            "enter product name:Redmi 7 pro\n",
            "enter price18999\n",
            "Enter quantity:10\n",
            "{'1': {'name': 'chocolates', 'Price': 10, 'quantity': 20}, '2': {'name': 'biscuits', 'Price': 10, 'quantity': 20}, '3': {'name': 'chips', 'Price': 4, 'quantity': 10}, '4': {'name': 'icecream', 'Price': 15, 'quantity': 20}, '5': {'name': 'cake', 'Price': 20, 'quantity': 30}, '6': {'name': 'pens', 'Price': 5, 'quantity': 30}, '7': {'name': 'cookies', 'Price': 10, 'quantity': 20}, '8': {'name': 'chococake', 'Price': 100, 'quantity': 10}, '9': {'name': 'Dairymilk', 'Price': 40, 'quantity': 100}, '10': {'name': '5Star chocolate', 'Price': 10, 'quantity': 50}, '11': {'name': 'olive oil', 'Price': 400, 'quantity': 5}, '12': {'name': 'almond oil', 'Price': 200, 'quantity': 20}, '13': {'name': 'Sanitizer', 'Price': 100, 'quantity': 50}, '14': {'name': 'masks', 'Price': 50, 'quantity': 100}, '15': {'name': 'maggi', 'Price': 10, 'quantity': 50}, '16': {'name': 'yipee', 'Price': 10, 'quantity': 40}, '17': {'name': 'water bottle', 'Price': 100, 'quantity': 20}, '18': {'name': 'samsung galaxy s52', 'Price': 25000, 'quantity': 5}, 'oppo phone': {'name': 'oppo phone', 'Price': 20000, 'quantity': 10}, '20': {'name': 'Redmi 7 pro', 'Price': 18999, 'quantity': 10}}\n",
            "enter the id:21\n",
            "enter product name:vivo\n",
            "enter price25000\n",
            "Enter quantity:10\n",
            "{'1': {'name': 'chocolates', 'Price': 10, 'quantity': 20}, '2': {'name': 'biscuits', 'Price': 10, 'quantity': 20}, '3': {'name': 'chips', 'Price': 4, 'quantity': 10}, '4': {'name': 'icecream', 'Price': 15, 'quantity': 20}, '5': {'name': 'cake', 'Price': 20, 'quantity': 30}, '6': {'name': 'pens', 'Price': 5, 'quantity': 30}, '7': {'name': 'cookies', 'Price': 10, 'quantity': 20}, '8': {'name': 'chococake', 'Price': 100, 'quantity': 10}, '9': {'name': 'Dairymilk', 'Price': 40, 'quantity': 100}, '10': {'name': '5Star chocolate', 'Price': 10, 'quantity': 50}, '11': {'name': 'olive oil', 'Price': 400, 'quantity': 5}, '12': {'name': 'almond oil', 'Price': 200, 'quantity': 20}, '13': {'name': 'Sanitizer', 'Price': 100, 'quantity': 50}, '14': {'name': 'masks', 'Price': 50, 'quantity': 100}, '15': {'name': 'maggi', 'Price': 10, 'quantity': 50}, '16': {'name': 'yipee', 'Price': 10, 'quantity': 40}, '17': {'name': 'water bottle', 'Price': 100, 'quantity': 20}, '18': {'name': 'samsung galaxy s52', 'Price': 25000, 'quantity': 5}, 'oppo phone': {'name': 'oppo phone', 'Price': 20000, 'quantity': 10}, '20': {'name': 'Redmi 7 pro', 'Price': 18999, 'quantity': 10}, '21': {'name': 'vivo', 'Price': 25000, 'quantity': 10}}\n",
            "enter the id:22\n",
            "enter product name:nokia\n",
            "enter price3000\n",
            "Enter quantity:30\n",
            "{'1': {'name': 'chocolates', 'Price': 10, 'quantity': 20}, '2': {'name': 'biscuits', 'Price': 10, 'quantity': 20}, '3': {'name': 'chips', 'Price': 4, 'quantity': 10}, '4': {'name': 'icecream', 'Price': 15, 'quantity': 20}, '5': {'name': 'cake', 'Price': 20, 'quantity': 30}, '6': {'name': 'pens', 'Price': 5, 'quantity': 30}, '7': {'name': 'cookies', 'Price': 10, 'quantity': 20}, '8': {'name': 'chococake', 'Price': 100, 'quantity': 10}, '9': {'name': 'Dairymilk', 'Price': 40, 'quantity': 100}, '10': {'name': '5Star chocolate', 'Price': 10, 'quantity': 50}, '11': {'name': 'olive oil', 'Price': 400, 'quantity': 5}, '12': {'name': 'almond oil', 'Price': 200, 'quantity': 20}, '13': {'name': 'Sanitizer', 'Price': 100, 'quantity': 50}, '14': {'name': 'masks', 'Price': 50, 'quantity': 100}, '15': {'name': 'maggi', 'Price': 10, 'quantity': 50}, '16': {'name': 'yipee', 'Price': 10, 'quantity': 40}, '17': {'name': 'water bottle', 'Price': 100, 'quantity': 20}, '18': {'name': 'samsung galaxy s52', 'Price': 25000, 'quantity': 5}, 'oppo phone': {'name': 'oppo phone', 'Price': 20000, 'quantity': 10}, '20': {'name': 'Redmi 7 pro', 'Price': 18999, 'quantity': 10}, '21': {'name': 'vivo', 'Price': 25000, 'quantity': 10}, '22': {'name': 'nokia', 'Price': 3000, 'quantity': 30}}\n",
            "enter the id:23\n",
            "enter product name:headsets\n",
            "enter price2000\n",
            "Enter quantity:20\n",
            "{'1': {'name': 'chocolates', 'Price': 10, 'quantity': 20}, '2': {'name': 'biscuits', 'Price': 10, 'quantity': 20}, '3': {'name': 'chips', 'Price': 4, 'quantity': 10}, '4': {'name': 'icecream', 'Price': 15, 'quantity': 20}, '5': {'name': 'cake', 'Price': 20, 'quantity': 30}, '6': {'name': 'pens', 'Price': 5, 'quantity': 30}, '7': {'name': 'cookies', 'Price': 10, 'quantity': 20}, '8': {'name': 'chococake', 'Price': 100, 'quantity': 10}, '9': {'name': 'Dairymilk', 'Price': 40, 'quantity': 100}, '10': {'name': '5Star chocolate', 'Price': 10, 'quantity': 50}, '11': {'name': 'olive oil', 'Price': 400, 'quantity': 5}, '12': {'name': 'almond oil', 'Price': 200, 'quantity': 20}, '13': {'name': 'Sanitizer', 'Price': 100, 'quantity': 50}, '14': {'name': 'masks', 'Price': 50, 'quantity': 100}, '15': {'name': 'maggi', 'Price': 10, 'quantity': 50}, '16': {'name': 'yipee', 'Price': 10, 'quantity': 40}, '17': {'name': 'water bottle', 'Price': 100, 'quantity': 20}, '18': {'name': 'samsung galaxy s52', 'Price': 25000, 'quantity': 5}, 'oppo phone': {'name': 'oppo phone', 'Price': 20000, 'quantity': 10}, '20': {'name': 'Redmi 7 pro', 'Price': 18999, 'quantity': 10}, '21': {'name': 'vivo', 'Price': 25000, 'quantity': 10}, '22': {'name': 'nokia', 'Price': 3000, 'quantity': 30}, '23': {'name': 'headsets', 'Price': 2000, 'quantity': 20}}\n",
            "enter the id:24\n",
            "enter product name:earbuds\n",
            "enter price5000\n",
            "Enter quantity:10\n",
            "{'1': {'name': 'chocolates', 'Price': 10, 'quantity': 20}, '2': {'name': 'biscuits', 'Price': 10, 'quantity': 20}, '3': {'name': 'chips', 'Price': 4, 'quantity': 10}, '4': {'name': 'icecream', 'Price': 15, 'quantity': 20}, '5': {'name': 'cake', 'Price': 20, 'quantity': 30}, '6': {'name': 'pens', 'Price': 5, 'quantity': 30}, '7': {'name': 'cookies', 'Price': 10, 'quantity': 20}, '8': {'name': 'chococake', 'Price': 100, 'quantity': 10}, '9': {'name': 'Dairymilk', 'Price': 40, 'quantity': 100}, '10': {'name': '5Star chocolate', 'Price': 10, 'quantity': 50}, '11': {'name': 'olive oil', 'Price': 400, 'quantity': 5}, '12': {'name': 'almond oil', 'Price': 200, 'quantity': 20}, '13': {'name': 'Sanitizer', 'Price': 100, 'quantity': 50}, '14': {'name': 'masks', 'Price': 50, 'quantity': 100}, '15': {'name': 'maggi', 'Price': 10, 'quantity': 50}, '16': {'name': 'yipee', 'Price': 10, 'quantity': 40}, '17': {'name': 'water bottle', 'Price': 100, 'quantity': 20}, '18': {'name': 'samsung galaxy s52', 'Price': 25000, 'quantity': 5}, 'oppo phone': {'name': 'oppo phone', 'Price': 20000, 'quantity': 10}, '20': {'name': 'Redmi 7 pro', 'Price': 18999, 'quantity': 10}, '21': {'name': 'vivo', 'Price': 25000, 'quantity': 10}, '22': {'name': 'nokia', 'Price': 3000, 'quantity': 30}, '23': {'name': 'headsets', 'Price': 2000, 'quantity': 20}, '24': {'name': 'earbuds', 'Price': 5000, 'quantity': 10}}\n",
            "enter the id:25\n",
            "enter product name:Lan cable\n",
            "enter price100\n",
            "Enter quantity:50\n",
            "{'1': {'name': 'chocolates', 'Price': 10, 'quantity': 20}, '2': {'name': 'biscuits', 'Price': 10, 'quantity': 20}, '3': {'name': 'chips', 'Price': 4, 'quantity': 10}, '4': {'name': 'icecream', 'Price': 15, 'quantity': 20}, '5': {'name': 'cake', 'Price': 20, 'quantity': 30}, '6': {'name': 'pens', 'Price': 5, 'quantity': 30}, '7': {'name': 'cookies', 'Price': 10, 'quantity': 20}, '8': {'name': 'chococake', 'Price': 100, 'quantity': 10}, '9': {'name': 'Dairymilk', 'Price': 40, 'quantity': 100}, '10': {'name': '5Star chocolate', 'Price': 10, 'quantity': 50}, '11': {'name': 'olive oil', 'Price': 400, 'quantity': 5}, '12': {'name': 'almond oil', 'Price': 200, 'quantity': 20}, '13': {'name': 'Sanitizer', 'Price': 100, 'quantity': 50}, '14': {'name': 'masks', 'Price': 50, 'quantity': 100}, '15': {'name': 'maggi', 'Price': 10, 'quantity': 50}, '16': {'name': 'yipee', 'Price': 10, 'quantity': 40}, '17': {'name': 'water bottle', 'Price': 100, 'quantity': 20}, '18': {'name': 'samsung galaxy s52', 'Price': 25000, 'quantity': 5}, 'oppo phone': {'name': 'oppo phone', 'Price': 20000, 'quantity': 10}, '20': {'name': 'Redmi 7 pro', 'Price': 18999, 'quantity': 10}, '21': {'name': 'vivo', 'Price': 25000, 'quantity': 10}, '22': {'name': 'nokia', 'Price': 3000, 'quantity': 30}, '23': {'name': 'headsets', 'Price': 2000, 'quantity': 20}, '24': {'name': 'earbuds', 'Price': 5000, 'quantity': 10}, '25': {'name': 'Lan cable', 'Price': 100, 'quantity': 50}}\n",
            "enter the id:26\n",
            "enter product name:Samsung tv\n",
            "enter price30000\n",
            "Enter quantity:10\n",
            "{'1': {'name': 'chocolates', 'Price': 10, 'quantity': 20}, '2': {'name': 'biscuits', 'Price': 10, 'quantity': 20}, '3': {'name': 'chips', 'Price': 4, 'quantity': 10}, '4': {'name': 'icecream', 'Price': 15, 'quantity': 20}, '5': {'name': 'cake', 'Price': 20, 'quantity': 30}, '6': {'name': 'pens', 'Price': 5, 'quantity': 30}, '7': {'name': 'cookies', 'Price': 10, 'quantity': 20}, '8': {'name': 'chococake', 'Price': 100, 'quantity': 10}, '9': {'name': 'Dairymilk', 'Price': 40, 'quantity': 100}, '10': {'name': '5Star chocolate', 'Price': 10, 'quantity': 50}, '11': {'name': 'olive oil', 'Price': 400, 'quantity': 5}, '12': {'name': 'almond oil', 'Price': 200, 'quantity': 20}, '13': {'name': 'Sanitizer', 'Price': 100, 'quantity': 50}, '14': {'name': 'masks', 'Price': 50, 'quantity': 100}, '15': {'name': 'maggi', 'Price': 10, 'quantity': 50}, '16': {'name': 'yipee', 'Price': 10, 'quantity': 40}, '17': {'name': 'water bottle', 'Price': 100, 'quantity': 20}, '18': {'name': 'samsung galaxy s52', 'Price': 25000, 'quantity': 5}, 'oppo phone': {'name': 'oppo phone', 'Price': 20000, 'quantity': 10}, '20': {'name': 'Redmi 7 pro', 'Price': 18999, 'quantity': 10}, '21': {'name': 'vivo', 'Price': 25000, 'quantity': 10}, '22': {'name': 'nokia', 'Price': 3000, 'quantity': 30}, '23': {'name': 'headsets', 'Price': 2000, 'quantity': 20}, '24': {'name': 'earbuds', 'Price': 5000, 'quantity': 10}, '25': {'name': 'Lan cable', 'Price': 100, 'quantity': 50}, '26': {'name': 'Samsung tv', 'Price': 30000, 'quantity': 10}}\n",
            "enter the id:27\n",
            "enter product name:speakers\n",
            "enter price4000\n",
            "Enter quantity:10\n",
            "{'1': {'name': 'chocolates', 'Price': 10, 'quantity': 20}, '2': {'name': 'biscuits', 'Price': 10, 'quantity': 20}, '3': {'name': 'chips', 'Price': 4, 'quantity': 10}, '4': {'name': 'icecream', 'Price': 15, 'quantity': 20}, '5': {'name': 'cake', 'Price': 20, 'quantity': 30}, '6': {'name': 'pens', 'Price': 5, 'quantity': 30}, '7': {'name': 'cookies', 'Price': 10, 'quantity': 20}, '8': {'name': 'chococake', 'Price': 100, 'quantity': 10}, '9': {'name': 'Dairymilk', 'Price': 40, 'quantity': 100}, '10': {'name': '5Star chocolate', 'Price': 10, 'quantity': 50}, '11': {'name': 'olive oil', 'Price': 400, 'quantity': 5}, '12': {'name': 'almond oil', 'Price': 200, 'quantity': 20}, '13': {'name': 'Sanitizer', 'Price': 100, 'quantity': 50}, '14': {'name': 'masks', 'Price': 50, 'quantity': 100}, '15': {'name': 'maggi', 'Price': 10, 'quantity': 50}, '16': {'name': 'yipee', 'Price': 10, 'quantity': 40}, '17': {'name': 'water bottle', 'Price': 100, 'quantity': 20}, '18': {'name': 'samsung galaxy s52', 'Price': 25000, 'quantity': 5}, 'oppo phone': {'name': 'oppo phone', 'Price': 20000, 'quantity': 10}, '20': {'name': 'Redmi 7 pro', 'Price': 18999, 'quantity': 10}, '21': {'name': 'vivo', 'Price': 25000, 'quantity': 10}, '22': {'name': 'nokia', 'Price': 3000, 'quantity': 30}, '23': {'name': 'headsets', 'Price': 2000, 'quantity': 20}, '24': {'name': 'earbuds', 'Price': 5000, 'quantity': 10}, '25': {'name': 'Lan cable', 'Price': 100, 'quantity': 50}, '26': {'name': 'Samsung tv', 'Price': 30000, 'quantity': 10}, '27': {'name': 'speakers', 'Price': 4000, 'quantity': 10}}\n",
            "enter the id:28\n",
            "enter product name:microphone\n",
            "enter price200\n",
            "Enter quantity:30\n",
            "{'1': {'name': 'chocolates', 'Price': 10, 'quantity': 20}, '2': {'name': 'biscuits', 'Price': 10, 'quantity': 20}, '3': {'name': 'chips', 'Price': 4, 'quantity': 10}, '4': {'name': 'icecream', 'Price': 15, 'quantity': 20}, '5': {'name': 'cake', 'Price': 20, 'quantity': 30}, '6': {'name': 'pens', 'Price': 5, 'quantity': 30}, '7': {'name': 'cookies', 'Price': 10, 'quantity': 20}, '8': {'name': 'chococake', 'Price': 100, 'quantity': 10}, '9': {'name': 'Dairymilk', 'Price': 40, 'quantity': 100}, '10': {'name': '5Star chocolate', 'Price': 10, 'quantity': 50}, '11': {'name': 'olive oil', 'Price': 400, 'quantity': 5}, '12': {'name': 'almond oil', 'Price': 200, 'quantity': 20}, '13': {'name': 'Sanitizer', 'Price': 100, 'quantity': 50}, '14': {'name': 'masks', 'Price': 50, 'quantity': 100}, '15': {'name': 'maggi', 'Price': 10, 'quantity': 50}, '16': {'name': 'yipee', 'Price': 10, 'quantity': 40}, '17': {'name': 'water bottle', 'Price': 100, 'quantity': 20}, '18': {'name': 'samsung galaxy s52', 'Price': 25000, 'quantity': 5}, 'oppo phone': {'name': 'oppo phone', 'Price': 20000, 'quantity': 10}, '20': {'name': 'Redmi 7 pro', 'Price': 18999, 'quantity': 10}, '21': {'name': 'vivo', 'Price': 25000, 'quantity': 10}, '22': {'name': 'nokia', 'Price': 3000, 'quantity': 30}, '23': {'name': 'headsets', 'Price': 2000, 'quantity': 20}, '24': {'name': 'earbuds', 'Price': 5000, 'quantity': 10}, '25': {'name': 'Lan cable', 'Price': 100, 'quantity': 50}, '26': {'name': 'Samsung tv', 'Price': 30000, 'quantity': 10}, '27': {'name': 'speakers', 'Price': 4000, 'quantity': 10}, '28': {'name': 'microphone', 'Price': 200, 'quantity': 30}}\n",
            "enter the id:29\n",
            "enter product name:smart watch\n",
            "enter price10000\n",
            "Enter quantity:10\n",
            "{'1': {'name': 'chocolates', 'Price': 10, 'quantity': 20}, '2': {'name': 'biscuits', 'Price': 10, 'quantity': 20}, '3': {'name': 'chips', 'Price': 4, 'quantity': 10}, '4': {'name': 'icecream', 'Price': 15, 'quantity': 20}, '5': {'name': 'cake', 'Price': 20, 'quantity': 30}, '6': {'name': 'pens', 'Price': 5, 'quantity': 30}, '7': {'name': 'cookies', 'Price': 10, 'quantity': 20}, '8': {'name': 'chococake', 'Price': 100, 'quantity': 10}, '9': {'name': 'Dairymilk', 'Price': 40, 'quantity': 100}, '10': {'name': '5Star chocolate', 'Price': 10, 'quantity': 50}, '11': {'name': 'olive oil', 'Price': 400, 'quantity': 5}, '12': {'name': 'almond oil', 'Price': 200, 'quantity': 20}, '13': {'name': 'Sanitizer', 'Price': 100, 'quantity': 50}, '14': {'name': 'masks', 'Price': 50, 'quantity': 100}, '15': {'name': 'maggi', 'Price': 10, 'quantity': 50}, '16': {'name': 'yipee', 'Price': 10, 'quantity': 40}, '17': {'name': 'water bottle', 'Price': 100, 'quantity': 20}, '18': {'name': 'samsung galaxy s52', 'Price': 25000, 'quantity': 5}, 'oppo phone': {'name': 'oppo phone', 'Price': 20000, 'quantity': 10}, '20': {'name': 'Redmi 7 pro', 'Price': 18999, 'quantity': 10}, '21': {'name': 'vivo', 'Price': 25000, 'quantity': 10}, '22': {'name': 'nokia', 'Price': 3000, 'quantity': 30}, '23': {'name': 'headsets', 'Price': 2000, 'quantity': 20}, '24': {'name': 'earbuds', 'Price': 5000, 'quantity': 10}, '25': {'name': 'Lan cable', 'Price': 100, 'quantity': 50}, '26': {'name': 'Samsung tv', 'Price': 30000, 'quantity': 10}, '27': {'name': 'speakers', 'Price': 4000, 'quantity': 10}, '28': {'name': 'microphone', 'Price': 200, 'quantity': 30}, '29': {'name': 'smart watch', 'Price': 10000, 'quantity': 10}}\n",
            "enter the id:30\n",
            "enter product name:wrist band\n",
            "enter price1000\n",
            "Enter quantity:20\n",
            "{'1': {'name': 'chocolates', 'Price': 10, 'quantity': 20}, '2': {'name': 'biscuits', 'Price': 10, 'quantity': 20}, '3': {'name': 'chips', 'Price': 4, 'quantity': 10}, '4': {'name': 'icecream', 'Price': 15, 'quantity': 20}, '5': {'name': 'cake', 'Price': 20, 'quantity': 30}, '6': {'name': 'pens', 'Price': 5, 'quantity': 30}, '7': {'name': 'cookies', 'Price': 10, 'quantity': 20}, '8': {'name': 'chococake', 'Price': 100, 'quantity': 10}, '9': {'name': 'Dairymilk', 'Price': 40, 'quantity': 100}, '10': {'name': '5Star chocolate', 'Price': 10, 'quantity': 50}, '11': {'name': 'olive oil', 'Price': 400, 'quantity': 5}, '12': {'name': 'almond oil', 'Price': 200, 'quantity': 20}, '13': {'name': 'Sanitizer', 'Price': 100, 'quantity': 50}, '14': {'name': 'masks', 'Price': 50, 'quantity': 100}, '15': {'name': 'maggi', 'Price': 10, 'quantity': 50}, '16': {'name': 'yipee', 'Price': 10, 'quantity': 40}, '17': {'name': 'water bottle', 'Price': 100, 'quantity': 20}, '18': {'name': 'samsung galaxy s52', 'Price': 25000, 'quantity': 5}, 'oppo phone': {'name': 'oppo phone', 'Price': 20000, 'quantity': 10}, '20': {'name': 'Redmi 7 pro', 'Price': 18999, 'quantity': 10}, '21': {'name': 'vivo', 'Price': 25000, 'quantity': 10}, '22': {'name': 'nokia', 'Price': 3000, 'quantity': 30}, '23': {'name': 'headsets', 'Price': 2000, 'quantity': 20}, '24': {'name': 'earbuds', 'Price': 5000, 'quantity': 10}, '25': {'name': 'Lan cable', 'Price': 100, 'quantity': 50}, '26': {'name': 'Samsung tv', 'Price': 30000, 'quantity': 10}, '27': {'name': 'speakers', 'Price': 4000, 'quantity': 10}, '28': {'name': 'microphone', 'Price': 200, 'quantity': 30}, '29': {'name': 'smart watch', 'Price': 10000, 'quantity': 10}, '30': {'name': 'wrist band', 'Price': 1000, 'quantity': 20}}\n"
          ]
        }
      ]
    },
    {
      "cell_type": "code",
      "metadata": {
        "id": "KqeIIKkMRljT"
      },
      "source": [
        "import json\n",
        "fd = open(\"add_inventaory.json\",'r')\n",
        "r = fd.read()\n",
        "fd.close()\n"
      ],
      "execution_count": 189,
      "outputs": []
    },
    {
      "cell_type": "code",
      "metadata": {
        "colab": {
          "base_uri": "https://localhost:8080/",
          "height": 238
        },
        "id": "zU0Z2L56FJW1",
        "outputId": "98012499-9afa-447f-f12f-edcc57387250"
      },
      "source": [
        "#30 products in inventaory\n",
        "r"
      ],
      "execution_count": 190,
      "outputs": [
        {
          "output_type": "execute_result",
          "data": {
            "application/vnd.google.colaboratory.intrinsic+json": {
              "type": "string"
            },
            "text/plain": [
              "'{\"1\": {\"name\": \"chocolates\", \"Price\": 10, \"quantity\": 20}, \"2\": {\"name\": \"biscuits\", \"Price\": 10, \"quantity\": 20}, \"3\": {\"name\": \"chips\", \"Price\": 4, \"quantity\": 10}, \"4\": {\"name\": \"icecream\", \"Price\": 15, \"quantity\": 20}, \"5\": {\"name\": \"cake\", \"Price\": 20, \"quantity\": 30}, \"6\": {\"name\": \"pens\", \"Price\": 5, \"quantity\": 30}, \"7\": {\"name\": \"cookies\", \"Price\": 10, \"quantity\": 20}, \"8\": {\"name\": \"chococake\", \"Price\": 100, \"quantity\": 10}, \"9\": {\"name\": \"Dairymilk\", \"Price\": 40, \"quantity\": 100}, \"10\": {\"name\": \"5Star chocolate\", \"Price\": 10, \"quantity\": 50}, \"11\": {\"name\": \"olive oil\", \"Price\": 400, \"quantity\": 5}, \"12\": {\"name\": \"almond oil\", \"Price\": 200, \"quantity\": 20}, \"13\": {\"name\": \"Sanitizer\", \"Price\": 100, \"quantity\": 50}, \"14\": {\"name\": \"masks\", \"Price\": 50, \"quantity\": 100}, \"15\": {\"name\": \"maggi\", \"Price\": 10, \"quantity\": 50}, \"16\": {\"name\": \"yipee\", \"Price\": 10, \"quantity\": 40}, \"17\": {\"name\": \"water bottle\", \"Price\": 100, \"quantity\": 20}, \"18\": {\"name\": \"samsung galaxy s52\", \"Price\": 25000, \"quantity\": 5}, \"oppo phone\": {\"name\": \"oppo phone\", \"Price\": 20000, \"quantity\": 10}, \"20\": {\"name\": \"Redmi 7 pro\", \"Price\": 18999, \"quantity\": 10}, \"21\": {\"name\": \"vivo\", \"Price\": 25000, \"quantity\": 10}, \"22\": {\"name\": \"nokia\", \"Price\": 3000, \"quantity\": 30}, \"23\": {\"name\": \"headsets\", \"Price\": 2000, \"quantity\": 20}, \"24\": {\"name\": \"earbuds\", \"Price\": 5000, \"quantity\": 10}, \"25\": {\"name\": \"Lan cable\", \"Price\": 100, \"quantity\": 50}, \"26\": {\"name\": \"Samsung tv\", \"Price\": 30000, \"quantity\": 10}, \"27\": {\"name\": \"speakers\", \"Price\": 4000, \"quantity\": 10}, \"28\": {\"name\": \"microphone\", \"Price\": 200, \"quantity\": 30}, \"29\": {\"name\": \"smart watch\", \"Price\": 10000, \"quantity\": 10}, \"30\": {\"name\": \"wrist band\", \"Price\": 1000, \"quantity\": 20}}'"
            ]
          },
          "metadata": {},
          "execution_count": 190
        }
      ]
    },
    {
      "cell_type": "markdown",
      "metadata": {
        "id": "q9dC-20yPQxe"
      },
      "source": [
        "# **purchase the product**"
      ]
    },
    {
      "cell_type": "code",
      "metadata": {
        "colab": {
          "base_uri": "https://localhost:8080/"
        },
        "id": "GAlSGq4NcPv8",
        "outputId": "042b6d3f-18cb-460b-c16a-a714aec5a2be"
      },
      "source": [
        "given_id=input(\"enter the id:\")\n",
        "n=int(input(\"number of items needed\"))\n",
        "if(given_id in record):\n",
        "  if(n<=record[given_id][\"quantity\"]):\n",
        "    print(\"Avaliable\")\n",
        "    name_price=record.get(given_id)\n",
        "    actual_price=record[given_id][\"Price\"]\n",
        "    a=int(actual_price)\n",
        "    total_price=a*n\n",
        "    print(\"total price\",total_price)\n",
        "    i=input(\"enter to y or n to continue payemt process\")\n",
        "    if(i==\"y\" or \"Y\"):\n",
        "      print(\"payment done,recevie u r product\")\n",
        "    else:\n",
        "      print(\"exit\")\n",
        "  else:\n",
        "    print(\"required quantity no avilable\")\n",
        "else:\n",
        "  print(\"required item is not there\")"
      ],
      "execution_count": 288,
      "outputs": [
        {
          "output_type": "stream",
          "name": "stdout",
          "text": [
            "enter the id:29\n",
            "number of items needed2\n",
            "Avaliable\n",
            "total price 20000\n",
            "enter to y or n to continue payemt processy\n",
            "payment done,recevie u r product\n"
          ]
        }
      ]
    },
    {
      "cell_type": "markdown",
      "metadata": {
        "id": "bHqoMozOfy8V"
      },
      "source": [
        "# **bill Invoice**"
      ]
    },
    {
      "cell_type": "code",
      "metadata": {
        "colab": {
          "base_uri": "https://localhost:8080/"
        },
        "id": "dnimAWkAf2lc",
        "outputId": "63b7360c-a360-45ff-dac8-68bca0480138"
      },
      "source": [
        "name=\"D-mart\"\n",
        "city=\"vijayawada\"\n",
        "print('*' * 50)\n",
        "print('\\t\\t{}'.format(name.title()))\n",
        "print('\\t\\t{}'.format(city.title()))\n",
        "print('=' * 50)\n",
        "print('Productid\\tProduct name')\n",
        "print(\"{}\\t\\t{}\".format(given_id.title(), record[given_id][\"name\"]))\n",
        "print('=' * 50)\n",
        "total=total_price\n",
        "if(record[given_id][\"Price\"]*n>10000):\n",
        "  print('\\t\\tTotal')\n",
        "  print('\\t\\t{}'.format(total))\n",
        "  print(\"discount avaliable 10%\")\n",
        "  price=total-(total*0.1)\n",
        "  print('\\t\\tdiscountprice')\n",
        "  print('\\t\\t{}'.format(price))\n",
        "  #print(price)\n",
        "else:\n",
        "  print('\\t\\t\\tTotal')\n",
        "  print('\\t\\t\\t{}'.format(total))\n",
        "print('=' * 50)\n",
        "print(\"\\tthanks for shooping!!!\")\n",
        "print('*' * 50)\n"
      ],
      "execution_count": 290,
      "outputs": [
        {
          "output_type": "stream",
          "name": "stdout",
          "text": [
            "**************************************************\n",
            "\t\tD-Mart\n",
            "\t\tVijayawada\n",
            "==================================================\n",
            "Productid\tProduct name\n",
            "29\t\tsmart watch\n",
            "==================================================\n",
            "\t\tTotal\n",
            "\t\t20000\n",
            "discount avaliable 10%\n",
            "\t\tdiscountprice\n",
            "\t\t18000.0\n",
            "==================================================\n",
            "\tthanks for shooping!!!\n",
            "**************************************************\n"
          ]
        }
      ]
    },
    {
      "cell_type": "markdown",
      "metadata": {
        "id": "vNtrqQQbc6ja"
      },
      "source": [
        "# **update the inventary based on the purchase**"
      ]
    },
    {
      "cell_type": "code",
      "metadata": {
        "colab": {
          "base_uri": "https://localhost:8080/"
        },
        "id": "Rg1BoLfXdAED",
        "outputId": "9e6949d5-e998-4343-a34d-bdff63685cfd"
      },
      "source": [
        "#based on profuct purchase update quantity of inventaory\n",
        "record[given_id]['quantity']=record[given_id]['quantity']-n\n",
        "print(record)"
      ],
      "execution_count": 291,
      "outputs": [
        {
          "output_type": "stream",
          "name": "stdout",
          "text": [
            "{'1': {'name': 'chocolates', 'Price': 10, 'quantity': 20}, '2': {'name': 'biscuits', 'Price': 10, 'quantity': 20}, '3': {'name': 'chips', 'Price': 4, 'quantity': 7}, '4': {'name': 'icecream', 'Price': 15, 'quantity': 20}, '5': {'name': 'cake', 'Price': 20, 'quantity': 22}, '6': {'name': 'pens', 'Price': 5, 'quantity': 30}, '7': {'name': 'cookies', 'Price': 10, 'quantity': 20}, '8': {'name': 'chococake', 'Price': 100, 'quantity': 10}, '9': {'name': 'Dairymilk', 'Price': 40, 'quantity': 85}, '10': {'name': '5Star chocolate', 'Price': 10, 'quantity': 45}, '11': {'name': 'olive oil', 'Price': 400, 'quantity': 5}, '12': {'name': 'almond oil', 'Price': 200, 'quantity': 0}, '13': {'name': 'Sanitizer', 'Price': 100, 'quantity': 50}, '14': {'name': 'masks', 'Price': 50, 'quantity': 100}, '15': {'name': 'maggi', 'Price': 10, 'quantity': 46}, '16': {'name': 'yipee', 'Price': 10, 'quantity': 40}, '17': {'name': 'water bottle', 'Price': 100, 'quantity': 20}, '18': {'name': 'samsung galaxy s52', 'Price': 25000, 'quantity': 5}, 'oppo phone': {'name': 'oppo phone', 'Price': 20000, 'quantity': 10}, '20': {'name': 'Redmi 7 pro', 'Price': 18999, 'quantity': 6}, '21': {'name': 'vivo', 'Price': 25000, 'quantity': 7}, '22': {'name': 'nokia', 'Price': 3000, 'quantity': 30}, '23': {'name': 'headsets', 'Price': 2000, 'quantity': 20}, '24': {'name': 'earbuds', 'Price': 5000, 'quantity': 8}, '25': {'name': 'Lan cable', 'Price': 100, 'quantity': 49}, '26': {'name': 'Samsung tv', 'Price': 30000, 'quantity': 9}, '27': {'name': 'speakers', 'Price': 4000, 'quantity': 10}, '28': {'name': 'microphone', 'Price': 200, 'quantity': 30}, '29': {'name': 'smart watch', 'Price': 10000, 'quantity': 8}, '30': {'name': 'wrist band', 'Price': 1000, 'quantity': 11}}\n"
          ]
        }
      ]
    },
    {
      "cell_type": "code",
      "metadata": {
        "colab": {
          "base_uri": "https://localhost:8080/"
        },
        "id": "y6-_YR8-1oA1",
        "outputId": "9bd0c002-84d4-44ec-fa1b-54ad796d842c"
      },
      "source": [
        "print(record[given_id])"
      ],
      "execution_count": 292,
      "outputs": [
        {
          "output_type": "stream",
          "name": "stdout",
          "text": [
            "{'name': 'smart watch', 'Price': 10000, 'quantity': 8}\n"
          ]
        }
      ]
    },
    {
      "cell_type": "code",
      "metadata": {
        "id": "RYVrRvsNdMog"
      },
      "source": [
        "js=json.dumps(record)\n",
        "f=open(\"afterpurchase_inventaroy.json\",'w')\n",
        "f.writelines(js)\n",
        "f.close()"
      ],
      "execution_count": 281,
      "outputs": []
    },
    {
      "cell_type": "code",
      "metadata": {
        "colab": {
          "base_uri": "https://localhost:8080/",
          "height": 137
        },
        "id": "s1-h-VwfdalG",
        "outputId": "e25f02d3-55b8-4851-ea53-b720e6a5eebb"
      },
      "source": [
        "js"
      ],
      "execution_count": 282,
      "outputs": [
        {
          "output_type": "execute_result",
          "data": {
            "application/vnd.google.colaboratory.intrinsic+json": {
              "type": "string"
            },
            "text/plain": [
              "'{\"1\": {\"name\": \"chocolates\", \"Price\": 10, \"quantity\": 20}, \"2\": {\"name\": \"biscuits\", \"Price\": 10, \"quantity\": 20}, \"3\": {\"name\": \"chips\", \"Price\": 4, \"quantity\": 7}, \"4\": {\"name\": \"icecream\", \"Price\": 15, \"quantity\": 20}, \"5\": {\"name\": \"cake\", \"Price\": 20, \"quantity\": 22}, \"6\": {\"name\": \"pens\", \"Price\": 5, \"quantity\": 30}, \"7\": {\"name\": \"cookies\", \"Price\": 10, \"quantity\": 20}, \"8\": {\"name\": \"chococake\", \"Price\": 100, \"quantity\": 10}, \"9\": {\"name\": \"Dairymilk\", \"Price\": 40, \"quantity\": 85}, \"10\": {\"name\": \"5Star chocolate\", \"Price\": 10, \"quantity\": 45}, \"11\": {\"name\": \"olive oil\", \"Price\": 400, \"quantity\": 5}, \"12\": {\"name\": \"almond oil\", \"Price\": 200, \"quantity\": 0}, \"13\": {\"name\": \"Sanitizer\", \"Price\": 100, \"quantity\": 50}, \"14\": {\"name\": \"masks\", \"Price\": 50, \"quantity\": 100}, \"15\": {\"name\": \"maggi\", \"Price\": 10, \"quantity\": 46}, \"16\": {\"name\": \"yipee\", \"Price\": 10, \"quantity\": 40}, \"17\": {\"name\": \"water bottle\", \"Price\": 100, \"quantity\": 20}, \"18\": {\"name\": \"samsung galaxy s52\", \"Price\": 25000, \"quantity\": 5}, \"oppo phone\": {\"name\": \"oppo phone\", \"Price\": 20000, \"quantity\": 10}, \"20\": {\"name\": \"Redmi 7 pro\", \"Price\": 18999, \"quantity\": 6}, \"21\": {\"name\": \"vivo\", \"Price\": 25000, \"quantity\": 7}, \"22\": {\"name\": \"nokia\", \"Price\": 3000, \"quantity\": 30}, \"23\": {\"name\": \"headsets\", \"Price\": 2000, \"quantity\": 20}, \"24\": {\"name\": \"earbuds\", \"Price\": 5000, \"quantity\": 8}, \"25\": {\"name\": \"Lan cable\", \"Price\": 100, \"quantity\": 49}, \"26\": {\"name\": \"Samsung tv\", \"Price\": 30000, \"quantity\": 9}, \"27\": {\"name\": \"speakers\", \"Price\": 4000, \"quantity\": 10}, \"28\": {\"name\": \"microphone\", \"Price\": 200, \"quantity\": 30}, \"29\": {\"name\": \"smart watch\", \"Price\": 10000, \"quantity\": 10}, \"30\": {\"name\": \"wrist band\", \"Price\": 1000, \"quantity\": 11}}'"
            ]
          },
          "metadata": {},
          "execution_count": 282
        }
      ]
    },
    {
      "cell_type": "markdown",
      "metadata": {
        "id": "OglVkkiMdzn8"
      },
      "source": [
        "# **sales happend**"
      ]
    },
    {
      "cell_type": "code",
      "metadata": {
        "colab": {
          "base_uri": "https://localhost:8080/"
        },
        "id": "w524wkcYd4T6",
        "outputId": "6859f9ac-3cbb-4c64-a484-34ed2276b00e"
      },
      "source": [
        "import datetime\n",
        "id=int(input(\"enter the sale id:\"))\n",
        "sales={id:{\"product\":given_id,'quantity':n,'amount':record[given_id][\"Price\"]*n,'time':time.ctime()}}\n",
        "print(sales)"
      ],
      "execution_count": 283,
      "outputs": [
        {
          "output_type": "stream",
          "name": "stdout",
          "text": [
            "enter the sale id:10\n",
            "{10: {'product': '26', 'quantity': 1, 'amount': 30000, 'time': 'Mon Sep  6 13:07:42 2021'}}\n"
          ]
        }
      ]
    },
    {
      "cell_type": "code",
      "metadata": {
        "id": "_qRFcvQMeMVu"
      },
      "source": [
        "#dumping data\n",
        "##js=json.dumps(sales)\n",
        "##k=open(\"sales.json\",'w')\n",
        "##k.writelines(js)\n",
        "##k.close()"
      ],
      "execution_count": 198,
      "outputs": []
    },
    {
      "cell_type": "code",
      "metadata": {
        "id": "oSVSIfry4Jez"
      },
      "source": [
        "#append the data into sales file\n",
        "js=json.dumps(sales)\n",
        "k=open(\"sales.json\",'a')\n",
        "k.writelines(js)\n",
        "k.close()"
      ],
      "execution_count": 284,
      "outputs": []
    },
    {
      "cell_type": "code",
      "metadata": {
        "id": "2K6r-RXH8fqS"
      },
      "source": [
        "import json\n",
        "fp = open(\"sales.json\",'r')\n",
        "rp= fp.read()\n",
        "fd.close()"
      ],
      "execution_count": 285,
      "outputs": []
    },
    {
      "cell_type": "code",
      "metadata": {
        "colab": {
          "base_uri": "https://localhost:8080/",
          "height": 136
        },
        "id": "XsK1co-E8zQg",
        "outputId": "b5ebaae9-9aec-4cb3-9f59-c1e8a0a10ce1"
      },
      "source": [
        "rp"
      ],
      "execution_count": 286,
      "outputs": [
        {
          "output_type": "execute_result",
          "data": {
            "application/vnd.google.colaboratory.intrinsic+json": {
              "type": "string"
            },
            "text/plain": [
              "'{\"1\": {\"product\": \"10\", \"quantity\": 5, \"amount\": 50, \"time\": \"Mon Sep  6 12:32:20 2021\"}}{\"2\": {\"product\": \"21\", \"quantity\": 2, \"amount\": 50000, \"time\": \"Mon Sep  6 12:33:54 2021\"}}{\"3\": {\"product\": \"25\", \"quantity\": 1, \"amount\": 100, \"time\": \"Mon Sep  6 12:35:38 2021\"}}{\"4\": {\"product\": \"30\", \"quantity\": 5, \"amount\": 5000, \"time\": \"Mon Sep  6 12:43:18 2021\"}}{\"5\": {\"product\": \"5\", \"quantity\": 3, \"amount\": 60, \"time\": \"Mon Sep  6 12:46:55 2021\"}}{\"6\": {\"product\": \"15\", \"quantity\": 4, \"amount\": 40, \"time\": \"Mon Sep  6 12:50:19 2021\"}}{\"7\": {\"product\": \"20\", \"quantity\": 2, \"amount\": 37998, \"time\": \"Mon Sep  6 12:52:02 2021\"}}{\"8\": {\"product\": \"9\", \"quantity\": 5, \"amount\": 200, \"time\": \"Mon Sep  6 12:56:25 2021\"}}{\"9\": {\"product\": \"12\", \"quantity\": 10, \"amount\": 2000, \"time\": \"Mon Sep  6 13:01:04 2021\"}}{\"10\": {\"product\": \"26\", \"quantity\": 1, \"amount\": 30000, \"time\": \"Mon Sep  6 13:07:42 2021\"}}'"
            ]
          },
          "metadata": {},
          "execution_count": 286
        }
      ]
    }
  ]
}