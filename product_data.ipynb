{
  "nbformat": 4,
  "nbformat_minor": 0,
  "metadata": {
    "colab": {
      "name": "product_data.ipynb",
      "provenance": []
    },
    "kernelspec": {
      "name": "python3",
      "display_name": "Python 3"
    },
    "language_info": {
      "name": "python"
    }
  },
  "cells": [
    {
      "cell_type": "markdown",
      "metadata": {
        "id": "PxiN9na2MiYO"
      },
      "source": [
        "# **CREATING A PRODUCT LIST IN INVENTAORY**"
      ]
    },
    {
      "cell_type": "code",
      "metadata": {
        "colab": {
          "base_uri": "https://localhost:8080/"
        },
        "id": "5felkPr6MtmD",
        "outputId": "269fc40e-841a-4bd4-95ef-70785d48a958"
      },
      "source": [
        "product_id={}\n",
        "no_of_items=int(input(\"enter the number:\"))\n",
        "for i in range(no_of_items):\n",
        "    id=input(\"enter product id:\")\n",
        "    name=input(\"enter product name:\")\n",
        "    Price=int(input(\"enter price\"))\n",
        "    quantity=int(input(\"Enter quantity:\"))\n",
        "    values={'name':name,'Price':Price,'quantity':quantity}\n",
        "    product_id[id]=values\n",
        "print(product_id)"
      ],
      "execution_count": 13,
      "outputs": [
        {
          "output_type": "stream",
          "name": "stdout",
          "text": [
            "enter the number:5\n",
            "enter product id:1\n",
            "enter product name:chocolates\n",
            "enter price10\n",
            "Enter quantity:20\n",
            "enter product id:2\n",
            "enter product name:biscuits\n",
            "enter price10\n",
            "Enter quantity:20\n",
            "enter product id:3\n",
            "enter product name:chips\n",
            "enter price4\n",
            "Enter quantity:10\n",
            "enter product id:4\n",
            "enter product name:icecream\n",
            "enter price15\n",
            "Enter quantity:20\n",
            "enter product id:5\n",
            "enter product name:cake\n",
            "enter price20\n",
            "Enter quantity:30\n",
            "{'1': {'name': 'chocolates', 'Price': 10, 'quantity': 20}, '2': {'name': 'biscuits', 'Price': 10, 'quantity': 20}, '3': {'name': 'chips', 'Price': 4, 'quantity': 10}, '4': {'name': 'icecream', 'Price': 15, 'quantity': 20}, '5': {'name': 'cake', 'Price': 20, 'quantity': 30}}\n"
          ]
        }
      ]
    },
    {
      "cell_type": "markdown",
      "metadata": {
        "id": "KzGOSPX8N41q"
      },
      "source": [
        "# **dumping data into json file** "
      ]
    },
    {
      "cell_type": "code",
      "metadata": {
        "colab": {
          "base_uri": "https://localhost:8080/"
        },
        "id": "8g-44FrgNHRC",
        "outputId": "f34a0f21-9a60-464e-d87e-aca646dc191a"
      },
      "source": [
        "import json\n",
        "js=json.dumps(product_id)\n",
        "print(js)"
      ],
      "execution_count": 14,
      "outputs": [
        {
          "output_type": "stream",
          "name": "stdout",
          "text": [
            "{\"1\": {\"name\": \"chocolates\", \"Price\": 10, \"quantity\": 20}, \"2\": {\"name\": \"biscuits\", \"Price\": 10, \"quantity\": 20}, \"3\": {\"name\": \"chips\", \"Price\": 4, \"quantity\": 10}, \"4\": {\"name\": \"icecream\", \"Price\": 15, \"quantity\": 20}, \"5\": {\"name\": \"cake\", \"Price\": 20, \"quantity\": 30}}\n"
          ]
        }
      ]
    },
    {
      "cell_type": "code",
      "metadata": {
        "id": "Ry_bz4PUNU5p"
      },
      "source": [
        "fd=open(\"record.json\",'w')\n",
        "fd.write(js)\n",
        "fd.close()"
      ],
      "execution_count": 15,
      "outputs": []
    },
    {
      "cell_type": "code",
      "metadata": {
        "colab": {
          "base_uri": "https://localhost:8080/",
          "height": 52
        },
        "id": "kV2TfiNzNZkG",
        "outputId": "7f079242-b935-4051-bddd-0a03aeb967de"
      },
      "source": [
        "js"
      ],
      "execution_count": 16,
      "outputs": [
        {
          "output_type": "execute_result",
          "data": {
            "application/vnd.google.colaboratory.intrinsic+json": {
              "type": "string"
            },
            "text/plain": [
              "'{\"1\": {\"name\": \"chocolates\", \"Price\": 10, \"quantity\": 20}, \"2\": {\"name\": \"biscuits\", \"Price\": 10, \"quantity\": 20}, \"3\": {\"name\": \"chips\", \"Price\": 4, \"quantity\": 10}, \"4\": {\"name\": \"icecream\", \"Price\": 15, \"quantity\": 20}, \"5\": {\"name\": \"cake\", \"Price\": 20, \"quantity\": 30}}'"
            ]
          },
          "metadata": {},
          "execution_count": 16
        }
      ]
    }
  ]
}